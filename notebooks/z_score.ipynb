{
 "cells": [
  {
   "cell_type": "code",
   "execution_count": 1,
   "id": "21e92d69-553b-4f7b-a64f-21483d9bccae",
   "metadata": {},
   "outputs": [],
   "source": [
    "import os\n",
    "import random\n",
    "import numpy as np\n",
    "import pandas as pd\n",
    "import matplotlib.pyplot as plt\n",
    "from PIL import Image\n",
    "from sklearn.model_selection import train_test_split\n",
    "import logging"
   ]
  },
  {
   "cell_type": "markdown",
   "id": "53a24956-0605-4c2f-b679-27d4e40941f2",
   "metadata": {},
   "source": [
    "## Loading data"
   ]
  },
  {
   "cell_type": "code",
   "execution_count": 2,
   "id": "e22aec1c-48e8-41ad-b5d7-87d6280c5648",
   "metadata": {},
   "outputs": [],
   "source": [
    "DATA_PATH = '../data/raw/'\n",
    "\n",
    "subset_path = os.path.join(DATA_PATH, 'subset')\n",
    "export_path = '../data/processed/subset_input'\n",
    "os.makedirs(export_path, exist_ok=True)\n",
    "\n",
    "name_map = {\n",
    "    'AR drone': 'ar',\n",
    "    'Bepop drone': 'bepop',\n",
    "    'Background RF activities': 'bg',\n",
    "    'Phantom drone': 'phantom'\n",
    "}\n",
    "\n",
    "sample_rate = 40e6\n",
    "nperseg = 1024"
   ]
  },
  {
   "cell_type": "markdown",
   "id": "98b1fc6d-b983-4fb9-aa11-fceb9a232f5a",
   "metadata": {},
   "source": [
    "## Retreiving power levels for each frequency bin"
   ]
  },
  {
   "cell_type": "code",
   "execution_count": 71,
   "id": "c29f15ee-1b8c-444a-a64f-fdec623cdccd",
   "metadata": {},
   "outputs": [],
   "source": [
    "from scipy.fft import fft\n",
    "from scipy.signal import welch\n",
    "def get_power_levels(file_path, sample_rate=40e6, nperseg=1024):\n",
    "    \"\"\"\n",
    "    Computes the FFT for the segment. The number of unique frequency bins is (nperseg / 2) + 1 = 513.\n",
    "    The extra '+1' is due the DC component and the Nyquist frequency. \n",
    "\n",
    "    Returns a data frame with 513 frequency bins ranging from 0 Hz to 20MHz (half of sampling rate) \n",
    "    and the power level for each frequency bin.\n",
    "    \"\"\"\n",
    "    data = pd.read_csv(file_path, header=None).values.flatten()\n",
    "    \n",
    "    frequencies, psd = welch(data, fs=sample_rate, nperseg=nperseg, scaling='density')\n",
    "    \n",
    "    # Convert to dB\n",
    "    psd_db = 10 * np.log10(psd)\n",
    "    \n",
    "    df = pd.DataFrame({'bin_freq': frequencies, 'db': psd_db})\n",
    "    \n",
    "    return df"
   ]
  },
  {
   "cell_type": "code",
   "execution_count": 72,
   "id": "c41cac5b-18eb-428b-b609-06c814093b51",
   "metadata": {},
   "outputs": [],
   "source": [
    "def process_all_segments(baseline_path, sample_rate, nperseg, num_segments=5):\n",
    "    \"\"\"\n",
    "    For a specified number of segments, a combined data frame for the power levels for all segments is returned.\n",
    "    \"\"\"\n",
    "    all_power_levels = []\n",
    "    counter = 0\n",
    "    for filename in os.listdir(baseline_path):\n",
    "        if counter == num_segments:\n",
    "            break\n",
    "        if filename.endswith('.csv'):\n",
    "            file_path = os.path.join(baseline_path, filename)\n",
    "            print(file_path)\n",
    "            power_levels = get_power_levels(file_path, sample_rate, nperseg)\n",
    "            all_power_levels.append(power_levels)\n",
    "            counter += 1\n",
    "    return pd.concat(all_power_levels, ignore_index=True)"
   ]
  },
  {
   "cell_type": "markdown",
   "id": "71b8504a-9fb4-4867-91bc-95218a5b2af8",
   "metadata": {},
   "source": [
    "Run this line ONLY when you need data."
   ]
  },
  {
   "cell_type": "code",
   "execution_count": 80,
   "id": "21215c2c-059f-4040-8cb7-5b96fa038bd0",
   "metadata": {},
   "outputs": [],
   "source": [
    "baseline_path = os.path.join(subset_path, 'bg')"
   ]
  },
  {
   "cell_type": "code",
   "execution_count": 8,
   "id": "e9923337-a068-4945-8831-5777a954b7d1",
   "metadata": {},
   "outputs": [
    {
     "name": "stdout",
     "output_type": "stream",
     "text": [
      "../data/raw/subset/bg/00000L_28.csv\n",
      "../data/raw/subset/bg/00000L_14.csv\n",
      "../data/raw/subset/bg/00000L_15.csv\n",
      "../data/raw/subset/bg/00000L_29.csv\n",
      "../data/raw/subset/bg/00000L_17.csv\n",
      "../data/raw/subset/bg/00000L_16.csv\n"
     ]
    }
   ],
   "source": [
    "all_segment_data = process_all_segments(baseline_path, sample_rate, nperseg)"
   ]
  },
  {
   "cell_type": "markdown",
   "id": "c08ac224-ef58-41a6-ab9d-2cd0860c540e",
   "metadata": {},
   "source": [
    "## Calculate baseline stats and detect anomalies through sigmoid likelihoods"
   ]
  },
  {
   "cell_type": "code",
   "execution_count": 81,
   "id": "3cb3df99-c25f-47e7-b6fc-cbda02158a44",
   "metadata": {},
   "outputs": [],
   "source": [
    "def calculate_baseline_stats(all_segment_data):\n",
    "    \"\"\"\n",
    "    Groups the baseline data by frequency bin and calculates mean and standard deviation for each frequency bin.\n",
    "    \"\"\"\n",
    "    stats = all_segment_data.groupby(by=['bin_freq']).agg({'db': ['mean', 'std']})\n",
    "    return stats"
   ]
  },
  {
   "cell_type": "code",
   "execution_count": 93,
   "id": "b007a35d-9fda-4351-87c3-33b1f013cdfe",
   "metadata": {},
   "outputs": [],
   "source": [
    "def detect_anomalies_z_score(test_power_levels, stats, threshold=0.5):\n",
    "    \"\"\"\n",
    "    Merges test sample power levels with baseline stats and returns the merged data frame \n",
    "    and and array of anomalies after comparing z-scores with threshold\n",
    "    \"\"\"\n",
    "    mean_df = stats['db']['mean'].reset_index()\n",
    "    stds_df = stats['db']['std'].reset_index()\n",
    "    merged_df = pd.merge(pd.merge(test_power_levels, mean_df, on='bin_freq'), stds_df, on='bin_freq')\n",
    "\n",
    "    merged_df['z_score'] = (merged_df['db'] - merged_df['mean']) / (merged_df['std'])\n",
    "    merged_df['probs'] = 1 / (1 + np.exp(-(2 * merged_df['z_score'] - 3)))\n",
    "    \n",
    "    anomalies = merged_df['probs'] > threshold\n",
    "    \n",
    "    return merged_df, anomalies"
   ]
  },
  {
   "cell_type": "code",
   "execution_count": 94,
   "id": "fb0b0981-460e-46aa-95d6-32d585974aaa",
   "metadata": {},
   "outputs": [],
   "source": [
    "def print_if_anomaly(anomalies):\n",
    "    anomaly_prop = (anomalies.sum() / len(anomalies)) * 100\n",
    "    if anomaly_prop > 50:\n",
    "        print(f\"Anomaly detected! {anomaly_prop:.2f}% of frequency bins are anomalous.\")\n",
    "    else:\n",
    "        print(f\"Normal signal detected! {anomaly_prop:.2f}% of frequency bins are anomalous.\")"
   ]
  },
  {
   "cell_type": "code",
   "execution_count": 95,
   "id": "15e81265-77a5-4c3c-9d74-e0901c276742",
   "metadata": {},
   "outputs": [],
   "source": [
    "stats = calculate_baseline_stats(all_segment_data)"
   ]
  },
  {
   "cell_type": "code",
   "execution_count": 96,
   "id": "a74ea4e6-81fb-4f4c-b57b-2dea5d3e503c",
   "metadata": {},
   "outputs": [
    {
     "name": "stdout",
     "output_type": "stream",
     "text": [
      "                   db          \n",
      "                 mean       std\n",
      "bin_freq                       \n",
      "0.0        -71.945662  0.041916\n",
      "39062.5    -64.973211  0.031848\n",
      "78125.0    -64.180423  0.034899\n",
      "117187.5   -64.175892  0.030306\n",
      "156250.0   -64.176783  0.023045\n",
      "...               ...       ...\n",
      "19843750.0 -64.168613  0.021449\n",
      "19882812.5 -64.178771  0.043482\n",
      "19921875.0 -64.162850  0.033870\n",
      "19960937.5 -63.535991  0.039484\n",
      "20000000.0 -65.104129  0.069622\n",
      "\n",
      "[513 rows x 2 columns]\n"
     ]
    }
   ],
   "source": [
    "print(stats)"
   ]
  },
  {
   "cell_type": "code",
   "execution_count": 97,
   "id": "33aed3aa-b174-4e5e-81b1-a61dcc0a2ed3",
   "metadata": {},
   "outputs": [
    {
     "name": "stdout",
     "output_type": "stream",
     "text": [
      "MultiIndex([('db', 'mean'),\n",
      "            ('db',  'std')],\n",
      "           )\n"
     ]
    }
   ],
   "source": [
    "print(stats.columns)"
   ]
  },
  {
   "cell_type": "code",
   "execution_count": 98,
   "id": "e04a1135-cc20-4177-ab94-c7587179d1db",
   "metadata": {},
   "outputs": [
    {
     "name": "stdout",
     "output_type": "stream",
     "text": [
      "MultiIndex([('bin_freq',     ''),\n",
      "            (      'db', 'mean'),\n",
      "            (      'db',  'std')],\n",
      "           )\n"
     ]
    }
   ],
   "source": [
    "print(stats.reset_index().columns)"
   ]
  },
  {
   "cell_type": "code",
   "execution_count": 100,
   "id": "a333fab7-50d5-48a6-82dc-f3f08033fe24",
   "metadata": {},
   "outputs": [],
   "source": [
    "drone_path = os.path.join(subset_path, 'drone/10100L_2.csv')\n",
    "drone_power_levels = get_power_levels(drone_path)"
   ]
  },
  {
   "cell_type": "code",
   "execution_count": 101,
   "id": "c7f49456-5bf5-42b3-9eb6-fea0788b48e6",
   "metadata": {},
   "outputs": [],
   "source": [
    "bg_path = os.path.join(subset_path, 'bg/00000L_2.csv')\n",
    "bg_power_levels = get_power_levels(bg_path)"
   ]
  },
  {
   "cell_type": "code",
   "execution_count": 102,
   "id": "f9151a2a-d9f6-4f45-9191-4e5a37604ac9",
   "metadata": {},
   "outputs": [],
   "source": [
    "merged_drone_df, drone_anomalies = detect_anomalies_z_score(drone_power_levels, stats, threshold=0.5)"
   ]
  },
  {
   "cell_type": "code",
   "execution_count": 103,
   "id": "f3cb4b08-af19-44ab-8afe-277b51ce3ef5",
   "metadata": {},
   "outputs": [],
   "source": [
    "_, bg_anomalies = detect_anomalies_z_score(bg_power_levels, stats, threshold=0.5)"
   ]
  },
  {
   "cell_type": "code",
   "execution_count": 104,
   "id": "2565d279-e1fb-4654-a92e-b7740a10e561",
   "metadata": {},
   "outputs": [
    {
     "name": "stdout",
     "output_type": "stream",
     "text": [
      "Anomaly detected! 99.81% of frequency bins are anomalous.\n",
      "Normal signal detected! 9.75% of frequency bins are anomalous.\n"
     ]
    }
   ],
   "source": [
    "print_if_anomaly(drone_anomalies)\n",
    "print_if_anomaly(bg_anomalies)"
   ]
  },
  {
   "cell_type": "markdown",
   "id": "d2f1fef1-e248-46ab-b004-9fc9fb653a7f",
   "metadata": {},
   "source": [
    "## Isolation Forest"
   ]
  },
  {
   "cell_type": "code",
   "execution_count": 111,
   "id": "8d40102f-95ce-4807-a9a7-454d9c1c4e35",
   "metadata": {},
   "outputs": [],
   "source": [
    "from sklearn.preprocessing import StandardScaler\n",
    "from sklearn.ensemble import IsolationForest"
   ]
  },
  {
   "cell_type": "code",
   "execution_count": 108,
   "id": "e157a7af-c4de-4709-b43d-2d0a32cf6da7",
   "metadata": {},
   "outputs": [],
   "source": [
    "X = all_segment_data.drop('bin_freq', axis=1)"
   ]
  },
  {
   "cell_type": "code",
   "execution_count": 109,
   "id": "5ba07c84-4834-4010-8fe4-a1660c07aed0",
   "metadata": {},
   "outputs": [],
   "source": [
    "scaler = StandardScaler()\n",
    "X_scaled = scaler.fit_transform(X)"
   ]
  },
  {
   "cell_type": "code",
   "execution_count": 112,
   "id": "1d21456f-cdc6-4a87-ac72-5cbaab733c18",
   "metadata": {},
   "outputs": [
    {
     "data": {
      "text/html": [
       "<style>#sk-container-id-1 {\n",
       "  /* Definition of color scheme common for light and dark mode */\n",
       "  --sklearn-color-text: black;\n",
       "  --sklearn-color-line: gray;\n",
       "  /* Definition of color scheme for unfitted estimators */\n",
       "  --sklearn-color-unfitted-level-0: #fff5e6;\n",
       "  --sklearn-color-unfitted-level-1: #f6e4d2;\n",
       "  --sklearn-color-unfitted-level-2: #ffe0b3;\n",
       "  --sklearn-color-unfitted-level-3: chocolate;\n",
       "  /* Definition of color scheme for fitted estimators */\n",
       "  --sklearn-color-fitted-level-0: #f0f8ff;\n",
       "  --sklearn-color-fitted-level-1: #d4ebff;\n",
       "  --sklearn-color-fitted-level-2: #b3dbfd;\n",
       "  --sklearn-color-fitted-level-3: cornflowerblue;\n",
       "\n",
       "  /* Specific color for light theme */\n",
       "  --sklearn-color-text-on-default-background: var(--sg-text-color, var(--theme-code-foreground, var(--jp-content-font-color1, black)));\n",
       "  --sklearn-color-background: var(--sg-background-color, var(--theme-background, var(--jp-layout-color0, white)));\n",
       "  --sklearn-color-border-box: var(--sg-text-color, var(--theme-code-foreground, var(--jp-content-font-color1, black)));\n",
       "  --sklearn-color-icon: #696969;\n",
       "\n",
       "  @media (prefers-color-scheme: dark) {\n",
       "    /* Redefinition of color scheme for dark theme */\n",
       "    --sklearn-color-text-on-default-background: var(--sg-text-color, var(--theme-code-foreground, var(--jp-content-font-color1, white)));\n",
       "    --sklearn-color-background: var(--sg-background-color, var(--theme-background, var(--jp-layout-color0, #111)));\n",
       "    --sklearn-color-border-box: var(--sg-text-color, var(--theme-code-foreground, var(--jp-content-font-color1, white)));\n",
       "    --sklearn-color-icon: #878787;\n",
       "  }\n",
       "}\n",
       "\n",
       "#sk-container-id-1 {\n",
       "  color: var(--sklearn-color-text);\n",
       "}\n",
       "\n",
       "#sk-container-id-1 pre {\n",
       "  padding: 0;\n",
       "}\n",
       "\n",
       "#sk-container-id-1 input.sk-hidden--visually {\n",
       "  border: 0;\n",
       "  clip: rect(1px 1px 1px 1px);\n",
       "  clip: rect(1px, 1px, 1px, 1px);\n",
       "  height: 1px;\n",
       "  margin: -1px;\n",
       "  overflow: hidden;\n",
       "  padding: 0;\n",
       "  position: absolute;\n",
       "  width: 1px;\n",
       "}\n",
       "\n",
       "#sk-container-id-1 div.sk-dashed-wrapped {\n",
       "  border: 1px dashed var(--sklearn-color-line);\n",
       "  margin: 0 0.4em 0.5em 0.4em;\n",
       "  box-sizing: border-box;\n",
       "  padding-bottom: 0.4em;\n",
       "  background-color: var(--sklearn-color-background);\n",
       "}\n",
       "\n",
       "#sk-container-id-1 div.sk-container {\n",
       "  /* jupyter's `normalize.less` sets `[hidden] { display: none; }`\n",
       "     but bootstrap.min.css set `[hidden] { display: none !important; }`\n",
       "     so we also need the `!important` here to be able to override the\n",
       "     default hidden behavior on the sphinx rendered scikit-learn.org.\n",
       "     See: https://github.com/scikit-learn/scikit-learn/issues/21755 */\n",
       "  display: inline-block !important;\n",
       "  position: relative;\n",
       "}\n",
       "\n",
       "#sk-container-id-1 div.sk-text-repr-fallback {\n",
       "  display: none;\n",
       "}\n",
       "\n",
       "div.sk-parallel-item,\n",
       "div.sk-serial,\n",
       "div.sk-item {\n",
       "  /* draw centered vertical line to link estimators */\n",
       "  background-image: linear-gradient(var(--sklearn-color-text-on-default-background), var(--sklearn-color-text-on-default-background));\n",
       "  background-size: 2px 100%;\n",
       "  background-repeat: no-repeat;\n",
       "  background-position: center center;\n",
       "}\n",
       "\n",
       "/* Parallel-specific style estimator block */\n",
       "\n",
       "#sk-container-id-1 div.sk-parallel-item::after {\n",
       "  content: \"\";\n",
       "  width: 100%;\n",
       "  border-bottom: 2px solid var(--sklearn-color-text-on-default-background);\n",
       "  flex-grow: 1;\n",
       "}\n",
       "\n",
       "#sk-container-id-1 div.sk-parallel {\n",
       "  display: flex;\n",
       "  align-items: stretch;\n",
       "  justify-content: center;\n",
       "  background-color: var(--sklearn-color-background);\n",
       "  position: relative;\n",
       "}\n",
       "\n",
       "#sk-container-id-1 div.sk-parallel-item {\n",
       "  display: flex;\n",
       "  flex-direction: column;\n",
       "}\n",
       "\n",
       "#sk-container-id-1 div.sk-parallel-item:first-child::after {\n",
       "  align-self: flex-end;\n",
       "  width: 50%;\n",
       "}\n",
       "\n",
       "#sk-container-id-1 div.sk-parallel-item:last-child::after {\n",
       "  align-self: flex-start;\n",
       "  width: 50%;\n",
       "}\n",
       "\n",
       "#sk-container-id-1 div.sk-parallel-item:only-child::after {\n",
       "  width: 0;\n",
       "}\n",
       "\n",
       "/* Serial-specific style estimator block */\n",
       "\n",
       "#sk-container-id-1 div.sk-serial {\n",
       "  display: flex;\n",
       "  flex-direction: column;\n",
       "  align-items: center;\n",
       "  background-color: var(--sklearn-color-background);\n",
       "  padding-right: 1em;\n",
       "  padding-left: 1em;\n",
       "}\n",
       "\n",
       "\n",
       "/* Toggleable style: style used for estimator/Pipeline/ColumnTransformer box that is\n",
       "clickable and can be expanded/collapsed.\n",
       "- Pipeline and ColumnTransformer use this feature and define the default style\n",
       "- Estimators will overwrite some part of the style using the `sk-estimator` class\n",
       "*/\n",
       "\n",
       "/* Pipeline and ColumnTransformer style (default) */\n",
       "\n",
       "#sk-container-id-1 div.sk-toggleable {\n",
       "  /* Default theme specific background. It is overwritten whether we have a\n",
       "  specific estimator or a Pipeline/ColumnTransformer */\n",
       "  background-color: var(--sklearn-color-background);\n",
       "}\n",
       "\n",
       "/* Toggleable label */\n",
       "#sk-container-id-1 label.sk-toggleable__label {\n",
       "  cursor: pointer;\n",
       "  display: block;\n",
       "  width: 100%;\n",
       "  margin-bottom: 0;\n",
       "  padding: 0.5em;\n",
       "  box-sizing: border-box;\n",
       "  text-align: center;\n",
       "}\n",
       "\n",
       "#sk-container-id-1 label.sk-toggleable__label-arrow:before {\n",
       "  /* Arrow on the left of the label */\n",
       "  content: \"▸\";\n",
       "  float: left;\n",
       "  margin-right: 0.25em;\n",
       "  color: var(--sklearn-color-icon);\n",
       "}\n",
       "\n",
       "#sk-container-id-1 label.sk-toggleable__label-arrow:hover:before {\n",
       "  color: var(--sklearn-color-text);\n",
       "}\n",
       "\n",
       "/* Toggleable content - dropdown */\n",
       "\n",
       "#sk-container-id-1 div.sk-toggleable__content {\n",
       "  max-height: 0;\n",
       "  max-width: 0;\n",
       "  overflow: hidden;\n",
       "  text-align: left;\n",
       "  /* unfitted */\n",
       "  background-color: var(--sklearn-color-unfitted-level-0);\n",
       "}\n",
       "\n",
       "#sk-container-id-1 div.sk-toggleable__content.fitted {\n",
       "  /* fitted */\n",
       "  background-color: var(--sklearn-color-fitted-level-0);\n",
       "}\n",
       "\n",
       "#sk-container-id-1 div.sk-toggleable__content pre {\n",
       "  margin: 0.2em;\n",
       "  border-radius: 0.25em;\n",
       "  color: var(--sklearn-color-text);\n",
       "  /* unfitted */\n",
       "  background-color: var(--sklearn-color-unfitted-level-0);\n",
       "}\n",
       "\n",
       "#sk-container-id-1 div.sk-toggleable__content.fitted pre {\n",
       "  /* unfitted */\n",
       "  background-color: var(--sklearn-color-fitted-level-0);\n",
       "}\n",
       "\n",
       "#sk-container-id-1 input.sk-toggleable__control:checked~div.sk-toggleable__content {\n",
       "  /* Expand drop-down */\n",
       "  max-height: 200px;\n",
       "  max-width: 100%;\n",
       "  overflow: auto;\n",
       "}\n",
       "\n",
       "#sk-container-id-1 input.sk-toggleable__control:checked~label.sk-toggleable__label-arrow:before {\n",
       "  content: \"▾\";\n",
       "}\n",
       "\n",
       "/* Pipeline/ColumnTransformer-specific style */\n",
       "\n",
       "#sk-container-id-1 div.sk-label input.sk-toggleable__control:checked~label.sk-toggleable__label {\n",
       "  color: var(--sklearn-color-text);\n",
       "  background-color: var(--sklearn-color-unfitted-level-2);\n",
       "}\n",
       "\n",
       "#sk-container-id-1 div.sk-label.fitted input.sk-toggleable__control:checked~label.sk-toggleable__label {\n",
       "  background-color: var(--sklearn-color-fitted-level-2);\n",
       "}\n",
       "\n",
       "/* Estimator-specific style */\n",
       "\n",
       "/* Colorize estimator box */\n",
       "#sk-container-id-1 div.sk-estimator input.sk-toggleable__control:checked~label.sk-toggleable__label {\n",
       "  /* unfitted */\n",
       "  background-color: var(--sklearn-color-unfitted-level-2);\n",
       "}\n",
       "\n",
       "#sk-container-id-1 div.sk-estimator.fitted input.sk-toggleable__control:checked~label.sk-toggleable__label {\n",
       "  /* fitted */\n",
       "  background-color: var(--sklearn-color-fitted-level-2);\n",
       "}\n",
       "\n",
       "#sk-container-id-1 div.sk-label label.sk-toggleable__label,\n",
       "#sk-container-id-1 div.sk-label label {\n",
       "  /* The background is the default theme color */\n",
       "  color: var(--sklearn-color-text-on-default-background);\n",
       "}\n",
       "\n",
       "/* On hover, darken the color of the background */\n",
       "#sk-container-id-1 div.sk-label:hover label.sk-toggleable__label {\n",
       "  color: var(--sklearn-color-text);\n",
       "  background-color: var(--sklearn-color-unfitted-level-2);\n",
       "}\n",
       "\n",
       "/* Label box, darken color on hover, fitted */\n",
       "#sk-container-id-1 div.sk-label.fitted:hover label.sk-toggleable__label.fitted {\n",
       "  color: var(--sklearn-color-text);\n",
       "  background-color: var(--sklearn-color-fitted-level-2);\n",
       "}\n",
       "\n",
       "/* Estimator label */\n",
       "\n",
       "#sk-container-id-1 div.sk-label label {\n",
       "  font-family: monospace;\n",
       "  font-weight: bold;\n",
       "  display: inline-block;\n",
       "  line-height: 1.2em;\n",
       "}\n",
       "\n",
       "#sk-container-id-1 div.sk-label-container {\n",
       "  text-align: center;\n",
       "}\n",
       "\n",
       "/* Estimator-specific */\n",
       "#sk-container-id-1 div.sk-estimator {\n",
       "  font-family: monospace;\n",
       "  border: 1px dotted var(--sklearn-color-border-box);\n",
       "  border-radius: 0.25em;\n",
       "  box-sizing: border-box;\n",
       "  margin-bottom: 0.5em;\n",
       "  /* unfitted */\n",
       "  background-color: var(--sklearn-color-unfitted-level-0);\n",
       "}\n",
       "\n",
       "#sk-container-id-1 div.sk-estimator.fitted {\n",
       "  /* fitted */\n",
       "  background-color: var(--sklearn-color-fitted-level-0);\n",
       "}\n",
       "\n",
       "/* on hover */\n",
       "#sk-container-id-1 div.sk-estimator:hover {\n",
       "  /* unfitted */\n",
       "  background-color: var(--sklearn-color-unfitted-level-2);\n",
       "}\n",
       "\n",
       "#sk-container-id-1 div.sk-estimator.fitted:hover {\n",
       "  /* fitted */\n",
       "  background-color: var(--sklearn-color-fitted-level-2);\n",
       "}\n",
       "\n",
       "/* Specification for estimator info (e.g. \"i\" and \"?\") */\n",
       "\n",
       "/* Common style for \"i\" and \"?\" */\n",
       "\n",
       ".sk-estimator-doc-link,\n",
       "a:link.sk-estimator-doc-link,\n",
       "a:visited.sk-estimator-doc-link {\n",
       "  float: right;\n",
       "  font-size: smaller;\n",
       "  line-height: 1em;\n",
       "  font-family: monospace;\n",
       "  background-color: var(--sklearn-color-background);\n",
       "  border-radius: 1em;\n",
       "  height: 1em;\n",
       "  width: 1em;\n",
       "  text-decoration: none !important;\n",
       "  margin-left: 1ex;\n",
       "  /* unfitted */\n",
       "  border: var(--sklearn-color-unfitted-level-1) 1pt solid;\n",
       "  color: var(--sklearn-color-unfitted-level-1);\n",
       "}\n",
       "\n",
       ".sk-estimator-doc-link.fitted,\n",
       "a:link.sk-estimator-doc-link.fitted,\n",
       "a:visited.sk-estimator-doc-link.fitted {\n",
       "  /* fitted */\n",
       "  border: var(--sklearn-color-fitted-level-1) 1pt solid;\n",
       "  color: var(--sklearn-color-fitted-level-1);\n",
       "}\n",
       "\n",
       "/* On hover */\n",
       "div.sk-estimator:hover .sk-estimator-doc-link:hover,\n",
       ".sk-estimator-doc-link:hover,\n",
       "div.sk-label-container:hover .sk-estimator-doc-link:hover,\n",
       ".sk-estimator-doc-link:hover {\n",
       "  /* unfitted */\n",
       "  background-color: var(--sklearn-color-unfitted-level-3);\n",
       "  color: var(--sklearn-color-background);\n",
       "  text-decoration: none;\n",
       "}\n",
       "\n",
       "div.sk-estimator.fitted:hover .sk-estimator-doc-link.fitted:hover,\n",
       ".sk-estimator-doc-link.fitted:hover,\n",
       "div.sk-label-container:hover .sk-estimator-doc-link.fitted:hover,\n",
       ".sk-estimator-doc-link.fitted:hover {\n",
       "  /* fitted */\n",
       "  background-color: var(--sklearn-color-fitted-level-3);\n",
       "  color: var(--sklearn-color-background);\n",
       "  text-decoration: none;\n",
       "}\n",
       "\n",
       "/* Span, style for the box shown on hovering the info icon */\n",
       ".sk-estimator-doc-link span {\n",
       "  display: none;\n",
       "  z-index: 9999;\n",
       "  position: relative;\n",
       "  font-weight: normal;\n",
       "  right: .2ex;\n",
       "  padding: .5ex;\n",
       "  margin: .5ex;\n",
       "  width: min-content;\n",
       "  min-width: 20ex;\n",
       "  max-width: 50ex;\n",
       "  color: var(--sklearn-color-text);\n",
       "  box-shadow: 2pt 2pt 4pt #999;\n",
       "  /* unfitted */\n",
       "  background: var(--sklearn-color-unfitted-level-0);\n",
       "  border: .5pt solid var(--sklearn-color-unfitted-level-3);\n",
       "}\n",
       "\n",
       ".sk-estimator-doc-link.fitted span {\n",
       "  /* fitted */\n",
       "  background: var(--sklearn-color-fitted-level-0);\n",
       "  border: var(--sklearn-color-fitted-level-3);\n",
       "}\n",
       "\n",
       ".sk-estimator-doc-link:hover span {\n",
       "  display: block;\n",
       "}\n",
       "\n",
       "/* \"?\"-specific style due to the `<a>` HTML tag */\n",
       "\n",
       "#sk-container-id-1 a.estimator_doc_link {\n",
       "  float: right;\n",
       "  font-size: 1rem;\n",
       "  line-height: 1em;\n",
       "  font-family: monospace;\n",
       "  background-color: var(--sklearn-color-background);\n",
       "  border-radius: 1rem;\n",
       "  height: 1rem;\n",
       "  width: 1rem;\n",
       "  text-decoration: none;\n",
       "  /* unfitted */\n",
       "  color: var(--sklearn-color-unfitted-level-1);\n",
       "  border: var(--sklearn-color-unfitted-level-1) 1pt solid;\n",
       "}\n",
       "\n",
       "#sk-container-id-1 a.estimator_doc_link.fitted {\n",
       "  /* fitted */\n",
       "  border: var(--sklearn-color-fitted-level-1) 1pt solid;\n",
       "  color: var(--sklearn-color-fitted-level-1);\n",
       "}\n",
       "\n",
       "/* On hover */\n",
       "#sk-container-id-1 a.estimator_doc_link:hover {\n",
       "  /* unfitted */\n",
       "  background-color: var(--sklearn-color-unfitted-level-3);\n",
       "  color: var(--sklearn-color-background);\n",
       "  text-decoration: none;\n",
       "}\n",
       "\n",
       "#sk-container-id-1 a.estimator_doc_link.fitted:hover {\n",
       "  /* fitted */\n",
       "  background-color: var(--sklearn-color-fitted-level-3);\n",
       "}\n",
       "</style><div id=\"sk-container-id-1\" class=\"sk-top-container\"><div class=\"sk-text-repr-fallback\"><pre>IsolationForest(random_state=42)</pre><b>In a Jupyter environment, please rerun this cell to show the HTML representation or trust the notebook. <br />On GitHub, the HTML representation is unable to render, please try loading this page with nbviewer.org.</b></div><div class=\"sk-container\" hidden><div class=\"sk-item\"><div class=\"sk-estimator fitted sk-toggleable\"><input class=\"sk-toggleable__control sk-hidden--visually\" id=\"sk-estimator-id-1\" type=\"checkbox\" checked><label for=\"sk-estimator-id-1\" class=\"sk-toggleable__label fitted sk-toggleable__label-arrow fitted\">&nbsp;&nbsp;IsolationForest<a class=\"sk-estimator-doc-link fitted\" rel=\"noreferrer\" target=\"_blank\" href=\"https://scikit-learn.org/1.5/modules/generated/sklearn.ensemble.IsolationForest.html\">?<span>Documentation for IsolationForest</span></a><span class=\"sk-estimator-doc-link fitted\">i<span>Fitted</span></span></label><div class=\"sk-toggleable__content fitted\"><pre>IsolationForest(random_state=42)</pre></div> </div></div></div></div>"
      ],
      "text/plain": [
       "IsolationForest(random_state=42)"
      ]
     },
     "execution_count": 112,
     "metadata": {},
     "output_type": "execute_result"
    }
   ],
   "source": [
    "iso_forest = IsolationForest(random_state=42)\n",
    "iso_forest.fit(X_scaled)"
   ]
  },
  {
   "cell_type": "code",
   "execution_count": 114,
   "id": "b683db59-bfe1-4755-9301-77ce11785633",
   "metadata": {},
   "outputs": [],
   "source": [
    "anomalies = iso_forest.predict(X_scaled)\n",
    "\n",
    "# Add anomaly predictions to the dataset\n",
    "all_segment_data['anomaly'] = anomalies"
   ]
  },
  {
   "cell_type": "code",
   "execution_count": 119,
   "id": "ee7f9862-82fa-41af-b4f5-e35e4cefcf27",
   "metadata": {},
   "outputs": [
    {
     "name": "stdout",
     "output_type": "stream",
     "text": [
      "[-1  1  1 ...  1  1  1]\n"
     ]
    }
   ],
   "source": [
    "print(anomalies)"
   ]
  },
  {
   "cell_type": "code",
   "execution_count": null,
   "id": "0bc0360f-8f63-4243-a6d3-2aeea951e2fd",
   "metadata": {},
   "outputs": [],
   "source": [
    "prediction"
   ]
  },
  {
   "cell_type": "code",
   "execution_count": 130,
   "id": "122dd2b3-9ed3-4a2f-a5a8-e5355992c310",
   "metadata": {},
   "outputs": [],
   "source": [
    "def detect_anomalies_iso_forest(test_data, threshold=50):\n",
    "    test_data_scaled = scaler.transform(test_data.drop('bin_freq', axis=1))\n",
    "    prediction = iso_forest.predict(test_data_scaled)\n",
    "    anomaly_count = (prediction == -1).sum()\n",
    "    total_bins = len(prediction)\n",
    "    anomaly_percentage = (anomaly_count / total_bins) * 100\n",
    "    print(f\"Number of anomalies: {anomaly_count}\")\n",
    "    print(f\"Percentage of anomalies: {anomaly_percentage:.2f}%\")\n",
    "    return \"Anomaly Detected\" if anomaly_percentage > threshold else \"Normal\""
   ]
  },
  {
   "cell_type": "code",
   "execution_count": 133,
   "id": "73a00239-5b94-4555-9d4b-912ac5167304",
   "metadata": {},
   "outputs": [
    {
     "name": "stdout",
     "output_type": "stream",
     "text": [
      "Number of anomalies: 512\n",
      "Percentage of anomalies: 99.81%\n"
     ]
    },
    {
     "data": {
      "text/plain": [
       "'Anomaly Detected'"
      ]
     },
     "execution_count": 133,
     "metadata": {},
     "output_type": "execute_result"
    }
   ],
   "source": [
    "detect_anomalies_iso_forest(drone_power_levels)"
   ]
  },
  {
   "cell_type": "code",
   "execution_count": 134,
   "id": "c18bbe5d-f6b5-4d15-835a-08e597191334",
   "metadata": {},
   "outputs": [
    {
     "name": "stdout",
     "output_type": "stream",
     "text": [
      "Number of anomalies: 181\n",
      "Percentage of anomalies: 35.28%\n"
     ]
    },
    {
     "data": {
      "text/plain": [
       "'Normal'"
      ]
     },
     "execution_count": 134,
     "metadata": {},
     "output_type": "execute_result"
    }
   ],
   "source": [
    "detect_anomalies_iso_forest(bg_power_levels)"
   ]
  },
  {
   "cell_type": "code",
   "execution_count": null,
   "id": "0d5e5c20-ad7d-4e93-a7c3-7dd05ac68010",
   "metadata": {},
   "outputs": [],
   "source": []
  }
 ],
 "metadata": {
  "kernelspec": {
   "display_name": "Python 3 (ipykernel)",
   "language": "python",
   "name": "python3"
  },
  "language_info": {
   "codemirror_mode": {
    "name": "ipython",
    "version": 3
   },
   "file_extension": ".py",
   "mimetype": "text/x-python",
   "name": "python",
   "nbconvert_exporter": "python",
   "pygments_lexer": "ipython3",
   "version": "3.12.1"
  }
 },
 "nbformat": 4,
 "nbformat_minor": 5
}
