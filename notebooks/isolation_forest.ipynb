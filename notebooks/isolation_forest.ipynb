{
 "cells": [
  {
   "cell_type": "code",
   "execution_count": 1,
   "id": "21e92d69-553b-4f7b-a64f-21483d9bccae",
   "metadata": {},
   "outputs": [],
   "source": [
    "import os\n",
    "import random\n",
    "import numpy as np\n",
    "import pandas as pd\n",
    "import matplotlib.pyplot as plt\n",
    "from PIL import Image\n",
    "import librosa\n",
    "import librosa.display\n",
    "from sklearn.model_selection import train_test_split\n",
    "from sklearn.preprocessing import StandardScaler\n",
    "import logging"
   ]
  },
  {
   "cell_type": "markdown",
   "id": "53a24956-0605-4c2f-b679-27d4e40941f2",
   "metadata": {},
   "source": [
    "## Loading data"
   ]
  },
  {
   "cell_type": "code",
   "execution_count": 3,
   "id": "e22aec1c-48e8-41ad-b5d7-87d6280c5648",
   "metadata": {},
   "outputs": [],
   "source": [
    "DATA_PATH = '../data/raw/'\n",
    "IMG_SIZE = 122\n",
    "\n",
    "# Create necessary directories\n",
    "dronerf_path = os.path.join(DATA_PATH, 'dronerf')\n",
    "input_path = os.path.join(DATA_PATH, 'input')\n",
    "os.makedirs(input_path, exist_ok=True)\n",
    "\n",
    "# Create spectrograms\n",
    "name_map = {\n",
    "    'AR drone': 'ar',\n",
    "    'Bepop drone': 'bepop',\n",
    "    'Background RF activities': 'bg',\n",
    "    'Phantom drone': 'phantom'\n",
    "}\n",
    "\n",
    "sample_rate = 40e6 "
   ]
  },
  {
   "cell_type": "markdown",
   "id": "98b1fc6d-b983-4fb9-aa11-fceb9a232f5a",
   "metadata": {},
   "source": [
    "## Converting into spectrograms"
   ]
  },
  {
   "cell_type": "markdown",
   "id": "e2ec9b3d-9262-49ba-a6ae-8a2f92dfc077",
   "metadata": {},
   "source": [
    "Here, we use the librosa library to scale the data, perform short-time Fourier Transform, and develop spectrograms for each segment. We use the 'hamming' window to smooth the edges of each chunk to avoid artifacts. The amplitudes of the frequency is then converted to decibels."
   ]
  },
  {
   "cell_type": "code",
   "execution_count": 4,
   "id": "c40b7d82-c47b-4941-bc24-2339f957f8d3",
   "metadata": {},
   "outputs": [],
   "source": [
    "def create_spectrogram(file_path, export_path):\n",
    "    data = pd.read_csv(file_path, header=None).values.flatten()\n",
    "\n",
    "    # Normalize data\n",
    "    data = librosa.util.normalize(data)\n",
    "    \n",
    "    # Compute spectrogram\n",
    "    N = int(32e-3 * sample_rate)\n",
    "    hop_length = N // 2  # 50% overlap\n",
    "    S = librosa.stft(data, n_fft=N, hop_length=hop_length, window='hamming')\n",
    "    S_db = librosa.amplitude_to_db(np.abs(S), ref=np.max)\n",
    "    \n",
    "    # Plot spectrogram\n",
    "    fig, ax = plt.subplots(figsize=(IMG_SIZE/100, IMG_SIZE/100))\n",
    "    img = librosa.display.specshow(S_db, sr=sample_rate, hop_length=hop_length, x_axis=None, y_axis=None, ax=ax, cmap='gray_r')\n",
    "    \n",
    "    ax.set_axis_off()\n",
    "    fig.subplots_adjust(left=0, right=1, top=1, bottom=0)\n",
    "    plt.savefig(export_path, bbox_inches='tight', pad_inches=0)\n",
    "    plt.close(fig)\n",
    "    \n",
    "    with Image.open(export_path) as img:\n",
    "        print(f\"Image shape for {os.path.basename(export_path)}: {img.size}\")"
   ]
  },
  {
   "cell_type": "code",
   "execution_count": null,
   "id": "f7ec7e3d-6da3-41d3-bfc5-22c465f8c24a",
   "metadata": {},
   "outputs": [],
   "source": [
    "for drone_folder in os.listdir(dronerf_path):\n",
    "    drone_path = os.path.join(dronerf_path, drone_folder)\n",
    "    if not os.path.isdir(drone_path):\n",
    "        continue\n",
    "    \n",
    "    drone = name_map.get(drone_folder)\n",
    "    if drone is None:\n",
    "        print(f\"Warning: Unknown drone folder '{drone_folder}'. Skipping.\")\n",
    "        continue\n",
    "    \n",
    "    export_path = os.path.join(input_path, drone)\n",
    "    os.makedirs(export_path, exist_ok=True)\n",
    "    \n",
    "    lower_folder = os.path.join(drone_path, \"lower\")\n",
    "    if not os.path.isdir(lower_folder):\n",
    "        print(f\"Warning: No 'lower' folder found in '{drone_folder}'. Skipping.\")\n",
    "        continue\n",
    "    \n",
    "    for file in os.listdir(lower_folder):\n",
    "        if file.endswith('.csv'):\n",
    "            file_path = os.path.join(lower_folder, file)\n",
    "            export_file = os.path.join(export_path, f\"{os.path.splitext(file)[0]}.png\")\n",
    "            create_spectrogram(file_path, export_file)\n",
    "\n",
    "print(\"Spectrograms created successfully.\")"
   ]
  },
  {
   "cell_type": "markdown",
   "id": "56c35bf4-76ff-4a77-bdb1-d72a17e3dbb5",
   "metadata": {},
   "source": [
    "## Spectrograms to feature matrix for models"
   ]
  },
  {
   "cell_type": "code",
   "execution_count": 25,
   "id": "8015970a-1a95-4de0-bbf4-0c516d01cbb5",
   "metadata": {},
   "outputs": [],
   "source": [
    "def standardize(x):\n",
    "    return (x - np.min(x)) / (np.max(x) - np.min(x))"
   ]
  },
  {
   "cell_type": "markdown",
   "id": "6b30259c-28bb-4a5c-b0df-a17e3ac6a8ea",
   "metadata": {},
   "source": [
    "Opens spectrogram images and converts into grayscale (just to make sure). These images are then rotated 270 degrees, min-max normalized, and reshaped to a 1D array. All these flattened images are stacked on top of each other to build our feature matrix."
   ]
  },
  {
   "cell_type": "code",
   "execution_count": 26,
   "id": "3e6b4b03-f79d-49f1-abd8-27d75fdcedf6",
   "metadata": {},
   "outputs": [],
   "source": [
    "X_list = []\n",
    "y = []\n",
    "\n",
    "for drone in ['ar', 'bepop', 'bg', 'phantom']:\n",
    "    pngs_path = os.path.join(input_path, drone)\n",
    "    if not os.path.exists(pngs_path):\n",
    "        print(f\"Warning: Directory not found: {pngs_path}\")\n",
    "        continue\n",
    "    \n",
    "    drone_pngs_path = [os.path.join(pngs_path, f) for f in os.listdir(pngs_path) if f.endswith('.png')]\n",
    "    \n",
    "    for png_path in drone_pngs_path:\n",
    "        img = np.array(Image.open(png_path).convert('L'))\n",
    "        x = np.rot90(img, k=3)  # rotate\n",
    "        x = standardize(x)\n",
    "        x = x.reshape(1, IMG_SIZE*IMG_SIZE)\n",
    "        \n",
    "        X_list.append(x)\n",
    "        y.append(drone)\n",
    "\n",
    "X = np.vstack(X_list)\n",
    "X = pd.DataFrame(X, columns=[f'p{i+1}' for i in range(IMG_SIZE*IMG_SIZE)])\n",
    "df = pd.concat([pd.DataFrame({'y': y}), X], axis=1)"
   ]
  },
  {
   "cell_type": "markdown",
   "id": "07819b03-bde4-451b-b5a7-f0268aac10cb",
   "metadata": {},
   "source": [
    "## PCA"
   ]
  },
  {
   "cell_type": "code",
   "execution_count": 27,
   "id": "2dc1589e-97eb-414a-9700-b17707bce422",
   "metadata": {},
   "outputs": [
    {
     "data": {
      "image/png": "[encoded data removed]",
      "text/plain": [
       "<Figure size 1000x600 with 1 Axes>"
      ]
     },
     "metadata": {},
     "output_type": "display_data"
    }
   ],
   "source": [
    "from sklearn.decomposition import PCA\n",
    "\n",
    "pca_df = df.copy()\n",
    "label_mapping = {'bg': 0, 'ar': 1, 'phantom': 2}\n",
    "pca_df['y'] = pca_df['y'].map(label_mapping)\n",
    "\n",
    "X = pca_df.drop(['y'], axis=1)\n",
    "y = pca_df['y']\n",
    "\n",
    "scaler = StandardScaler()\n",
    "X_scaled = scaler.fit_transform(X)\n",
    "\n",
    "pca = PCA(n_components=2)\n",
    "X_pca = pca.fit_transform(X_scaled)\n",
    "\n",
    "plt.figure(figsize=(10, 6))\n",
    "plt.scatter(X_pca[y == 0, 0], X_pca[y == 0, 1], label='Background')\n",
    "plt.scatter(X_pca[y == 1, 0], X_pca[y == 1, 1], label='AR')\n",
    "plt.scatter(X_pca[y == 2, 0], X_pca[y == 2, 1], label='Phantom')\n",
    "plt.legend()\n",
    "plt.title('PCA of Spectrogram Data')\n",
    "plt.show()"
   ]
  },
  {
   "cell_type": "markdown",
   "id": "252bdc85-cebc-48cd-bedc-404f39bc6e5d",
   "metadata": {},
   "source": [
    "There is clear separation between each drone and background points."
   ]
  },
  {
   "cell_type": "markdown",
   "id": "9fc5ae25-489b-4935-a4bb-cf8a71fc93c6",
   "metadata": {},
   "source": [
    "## Split data into training and testing"
   ]
  },
  {
   "cell_type": "markdown",
   "id": "ad071ad5-3041-4487-bdd6-4bc228c4b423",
   "metadata": {},
   "source": [
    "For anomaly detection cases, we don't care about specific drones quite yet. Due to this, we map every drone label as a \"drone\" with label 1."
   ]
  },
  {
   "cell_type": "code",
   "execution_count": 28,
   "id": "99035ae9-62fd-46fc-9c2f-2c27bcaf493a",
   "metadata": {},
   "outputs": [
    {
     "name": "stdout",
     "output_type": "stream",
     "text": [
      "Full dataset distribution:\n",
      "y\n",
      "0    0.87234\n",
      "1    0.12766\n",
      "Name: proportion, dtype: float64\n",
      "\n",
      "Test set distribution:\n",
      "0    0.6\n",
      "1    0.4\n",
      "Name: proportion, dtype: float64\n"
     ]
    }
   ],
   "source": [
    "df['y'] = df['y'].map(lambda x: 0 if x == 'bg' else 1)\n",
    "\n",
    "X = df.drop(['y'], axis=1)\n",
    "y = df['y']\n",
    "\n",
    "X_bg = X[y == 0]\n",
    "X_drone = X[y == 1]\n",
    "\n",
    "# Split background data into train and test sets\n",
    "X_bg_train, X_bg_test = train_test_split(X_bg, test_size=0.2, random_state=42)\n",
    "\n",
    "# Use all drone data and some background data for testing\n",
    "X_test = pd.concat([X_bg_test, X_drone])\n",
    "y_test = pd.concat([pd.Series([0] * len(X_bg_test)), pd.Series([1] * len(X_drone))])\n",
    "\n",
    "print(\"Full dataset distribution:\")\n",
    "print(y.value_counts(normalize=True))\n",
    "\n",
    "print(\"\\nTest set distribution:\")\n",
    "print(y_test.value_counts(normalize=True))"
   ]
  },
  {
   "cell_type": "code",
   "execution_count": 29,
   "id": "2feb8306-0f66-4e50-92a4-01f2be709bde",
   "metadata": {},
   "outputs": [],
   "source": [
    "from sklearn.metrics import roc_auc_score, precision_recall_curve, average_precision_score, classification_report, confusion_matrix, ConfusionMatrixDisplay\n",
    "from sklearn.preprocessing import StandardScaler"
   ]
  },
  {
   "cell_type": "markdown",
   "id": "97961001-3c89-4dec-984d-d36cefca9ccf",
   "metadata": {},
   "source": [
    "# Isolation forest"
   ]
  },
  {
   "cell_type": "code",
   "execution_count": 33,
   "id": "122be0fa-5b50-40e8-a185-58ab3166e22a",
   "metadata": {},
   "outputs": [],
   "source": [
    "from sklearn.ensemble import IsolationForest"
   ]
  },
  {
   "cell_type": "markdown",
   "id": "cc9824e6-dac7-49f5-b6c5-4c62427e023e",
   "metadata": {},
   "source": [
    "Contamination level is basically the percent of anomalies expected."
   ]
  },
  {
   "cell_type": "code",
   "execution_count": 35,
   "id": "3b310e05-6f76-4ac1-ab50-7d45768d0412",
   "metadata": {},
   "outputs": [
    {
     "data": {
      "text/html": [
       "<style>#sk-container-id-3 {\n",
       "  /* Definition of color scheme common for light and dark mode */\n",
       "  --sklearn-color-text: black;\n",
       "  --sklearn-color-line: gray;\n",
       "  /* Definition of color scheme for unfitted estimators */\n",
       "  --sklearn-color-unfitted-level-0: #fff5e6;\n",
       "  --sklearn-color-unfitted-level-1: #f6e4d2;\n",
       "  --sklearn-color-unfitted-level-2: #ffe0b3;\n",
       "  --sklearn-color-unfitted-level-3: chocolate;\n",
       "  /* Definition of color scheme for fitted estimators */\n",
       "  --sklearn-color-fitted-level-0: #f0f8ff;\n",
       "  --sklearn-color-fitted-level-1: #d4ebff;\n",
       "  --sklearn-color-fitted-level-2: #b3dbfd;\n",
       "  --sklearn-color-fitted-level-3: cornflowerblue;\n",
       "\n",
       "  /* Specific color for light theme */\n",
       "  --sklearn-color-text-on-default-background: var(--sg-text-color, var(--theme-code-foreground, var(--jp-content-font-color1, black)));\n",
       "  --sklearn-color-background: var(--sg-background-color, var(--theme-background, var(--jp-layout-color0, white)));\n",
       "  --sklearn-color-border-box: var(--sg-text-color, var(--theme-code-foreground, var(--jp-content-font-color1, black)));\n",
       "  --sklearn-color-icon: #696969;\n",
       "\n",
       "  @media (prefers-color-scheme: dark) {\n",
       "    /* Redefinition of color scheme for dark theme */\n",
       "    --sklearn-color-text-on-default-background: var(--sg-text-color, var(--theme-code-foreground, var(--jp-content-font-color1, white)));\n",
       "    --sklearn-color-background: var(--sg-background-color, var(--theme-background, var(--jp-layout-color0, #111)));\n",
       "    --sklearn-color-border-box: var(--sg-text-color, var(--theme-code-foreground, var(--jp-content-font-color1, white)));\n",
       "    --sklearn-color-icon: #878787;\n",
       "  }\n",
       "}\n",
       "\n",
       "#sk-container-id-3 {\n",
       "  color: var(--sklearn-color-text);\n",
       "}\n",
       "\n",
       "#sk-container-id-3 pre {\n",
       "  padding: 0;\n",
       "}\n",
       "\n",
       "#sk-container-id-3 input.sk-hidden--visually {\n",
       "  border: 0;\n",
       "  clip: rect(1px 1px 1px 1px);\n",
       "  clip: rect(1px, 1px, 1px, 1px);\n",
       "  height: 1px;\n",
       "  margin: -1px;\n",
       "  overflow: hidden;\n",
       "  padding: 0;\n",
       "  position: absolute;\n",
       "  width: 1px;\n",
       "}\n",
       "\n",
       "#sk-container-id-3 div.sk-dashed-wrapped {\n",
       "  border: 1px dashed var(--sklearn-color-line);\n",
       "  margin: 0 0.4em 0.5em 0.4em;\n",
       "  box-sizing: border-box;\n",
       "  padding-bottom: 0.4em;\n",
       "  background-color: var(--sklearn-color-background);\n",
       "}\n",
       "\n",
       "#sk-container-id-3 div.sk-container {\n",
       "  /* jupyter's `normalize.less` sets `[hidden] { display: none; }`\n",
       "     but bootstrap.min.css set `[hidden] { display: none !important; }`\n",
       "     so we also need the `!important` here to be able to override the\n",
       "     default hidden behavior on the sphinx rendered scikit-learn.org.\n",
       "     See: https://github.com/scikit-learn/scikit-learn/issues/21755 */\n",
       "  display: inline-block !important;\n",
       "  position: relative;\n",
       "}\n",
       "\n",
       "#sk-container-id-3 div.sk-text-repr-fallback {\n",
       "  display: none;\n",
       "}\n",
       "\n",
       "div.sk-parallel-item,\n",
       "div.sk-serial,\n",
       "div.sk-item {\n",
       "  /* draw centered vertical line to link estimators */\n",
       "  background-image: linear-gradient(var(--sklearn-color-text-on-default-background), var(--sklearn-color-text-on-default-background));\n",
       "  background-size: 2px 100%;\n",
       "  background-repeat: no-repeat;\n",
       "  background-position: center center;\n",
       "}\n",
       "\n",
       "/* Parallel-specific style estimator block */\n",
       "\n",
       "#sk-container-id-3 div.sk-parallel-item::after {\n",
       "  content: \"\";\n",
       "  width: 100%;\n",
       "  border-bottom: 2px solid var(--sklearn-color-text-on-default-background);\n",
       "  flex-grow: 1;\n",
       "}\n",
       "\n",
       "#sk-container-id-3 div.sk-parallel {\n",
       "  display: flex;\n",
       "  align-items: stretch;\n",
       "  justify-content: center;\n",
       "  background-color: var(--sklearn-color-background);\n",
       "  position: relative;\n",
       "}\n",
       "\n",
       "#sk-container-id-3 div.sk-parallel-item {\n",
       "  display: flex;\n",
       "  flex-direction: column;\n",
       "}\n",
       "\n",
       "#sk-container-id-3 div.sk-parallel-item:first-child::after {\n",
       "  align-self: flex-end;\n",
       "  width: 50%;\n",
       "}\n",
       "\n",
       "#sk-container-id-3 div.sk-parallel-item:last-child::after {\n",
       "  align-self: flex-start;\n",
       "  width: 50%;\n",
       "}\n",
       "\n",
       "#sk-container-id-3 div.sk-parallel-item:only-child::after {\n",
       "  width: 0;\n",
       "}\n",
       "\n",
       "/* Serial-specific style estimator block */\n",
       "\n",
       "#sk-container-id-3 div.sk-serial {\n",
       "  display: flex;\n",
       "  flex-direction: column;\n",
       "  align-items: center;\n",
       "  background-color: var(--sklearn-color-background);\n",
       "  padding-right: 1em;\n",
       "  padding-left: 1em;\n",
       "}\n",
       "\n",
       "\n",
       "/* Toggleable style: style used for estimator/Pipeline/ColumnTransformer box that is\n",
       "clickable and can be expanded/collapsed.\n",
       "- Pipeline and ColumnTransformer use this feature and define the default style\n",
       "- Estimators will overwrite some part of the style using the `sk-estimator` class\n",
       "*/\n",
       "\n",
       "/* Pipeline and ColumnTransformer style (default) */\n",
       "\n",
       "#sk-container-id-3 div.sk-toggleable {\n",
       "  /* Default theme specific background. It is overwritten whether we have a\n",
       "  specific estimator or a Pipeline/ColumnTransformer */\n",
       "  background-color: var(--sklearn-color-background);\n",
       "}\n",
       "\n",
       "/* Toggleable label */\n",
       "#sk-container-id-3 label.sk-toggleable__label {\n",
       "  cursor: pointer;\n",
       "  display: block;\n",
       "  width: 100%;\n",
       "  margin-bottom: 0;\n",
       "  padding: 0.5em;\n",
       "  box-sizing: border-box;\n",
       "  text-align: center;\n",
       "}\n",
       "\n",
       "#sk-container-id-3 label.sk-toggleable__label-arrow:before {\n",
       "  /* Arrow on the left of the label */\n",
       "  content: \"▸\";\n",
       "  float: left;\n",
       "  margin-right: 0.25em;\n",
       "  color: var(--sklearn-color-icon);\n",
       "}\n",
       "\n",
       "#sk-container-id-3 label.sk-toggleable__label-arrow:hover:before {\n",
       "  color: var(--sklearn-color-text);\n",
       "}\n",
       "\n",
       "/* Toggleable content - dropdown */\n",
       "\n",
       "#sk-container-id-3 div.sk-toggleable__content {\n",
       "  max-height: 0;\n",
       "  max-width: 0;\n",
       "  overflow: hidden;\n",
       "  text-align: left;\n",
       "  /* unfitted */\n",
       "  background-color: var(--sklearn-color-unfitted-level-0);\n",
       "}\n",
       "\n",
       "#sk-container-id-3 div.sk-toggleable__content.fitted {\n",
       "  /* fitted */\n",
       "  background-color: var(--sklearn-color-fitted-level-0);\n",
       "}\n",
       "\n",
       "#sk-container-id-3 div.sk-toggleable__content pre {\n",
       "  margin: 0.2em;\n",
       "  border-radius: 0.25em;\n",
       "  color: var(--sklearn-color-text);\n",
       "  /* unfitted */\n",
       "  background-color: var(--sklearn-color-unfitted-level-0);\n",
       "}\n",
       "\n",
       "#sk-container-id-3 div.sk-toggleable__content.fitted pre {\n",
       "  /* unfitted */\n",
       "  background-color: var(--sklearn-color-fitted-level-0);\n",
       "}\n",
       "\n",
       "#sk-container-id-3 input.sk-toggleable__control:checked~div.sk-toggleable__content {\n",
       "  /* Expand drop-down */\n",
       "  max-height: 200px;\n",
       "  max-width: 100%;\n",
       "  overflow: auto;\n",
       "}\n",
       "\n",
       "#sk-container-id-3 input.sk-toggleable__control:checked~label.sk-toggleable__label-arrow:before {\n",
       "  content: \"▾\";\n",
       "}\n",
       "\n",
       "/* Pipeline/ColumnTransformer-specific style */\n",
       "\n",
       "#sk-container-id-3 div.sk-label input.sk-toggleable__control:checked~label.sk-toggleable__label {\n",
       "  color: var(--sklearn-color-text);\n",
       "  background-color: var(--sklearn-color-unfitted-level-2);\n",
       "}\n",
       "\n",
       "#sk-container-id-3 div.sk-label.fitted input.sk-toggleable__control:checked~label.sk-toggleable__label {\n",
       "  background-color: var(--sklearn-color-fitted-level-2);\n",
       "}\n",
       "\n",
       "/* Estimator-specific style */\n",
       "\n",
       "/* Colorize estimator box */\n",
       "#sk-container-id-3 div.sk-estimator input.sk-toggleable__control:checked~label.sk-toggleable__label {\n",
       "  /* unfitted */\n",
       "  background-color: var(--sklearn-color-unfitted-level-2);\n",
       "}\n",
       "\n",
       "#sk-container-id-3 div.sk-estimator.fitted input.sk-toggleable__control:checked~label.sk-toggleable__label {\n",
       "  /* fitted */\n",
       "  background-color: var(--sklearn-color-fitted-level-2);\n",
       "}\n",
       "\n",
       "#sk-container-id-3 div.sk-label label.sk-toggleable__label,\n",
       "#sk-container-id-3 div.sk-label label {\n",
       "  /* The background is the default theme color */\n",
       "  color: var(--sklearn-color-text-on-default-background);\n",
       "}\n",
       "\n",
       "/* On hover, darken the color of the background */\n",
       "#sk-container-id-3 div.sk-label:hover label.sk-toggleable__label {\n",
       "  color: var(--sklearn-color-text);\n",
       "  background-color: var(--sklearn-color-unfitted-level-2);\n",
       "}\n",
       "\n",
       "/* Label box, darken color on hover, fitted */\n",
       "#sk-container-id-3 div.sk-label.fitted:hover label.sk-toggleable__label.fitted {\n",
       "  color: var(--sklearn-color-text);\n",
       "  background-color: var(--sklearn-color-fitted-level-2);\n",
       "}\n",
       "\n",
       "/* Estimator label */\n",
       "\n",
       "#sk-container-id-3 div.sk-label label {\n",
       "  font-family: monospace;\n",
       "  font-weight: bold;\n",
       "  display: inline-block;\n",
       "  line-height: 1.2em;\n",
       "}\n",
       "\n",
       "#sk-container-id-3 div.sk-label-container {\n",
       "  text-align: center;\n",
       "}\n",
       "\n",
       "/* Estimator-specific */\n",
       "#sk-container-id-3 div.sk-estimator {\n",
       "  font-family: monospace;\n",
       "  border: 1px dotted var(--sklearn-color-border-box);\n",
       "  border-radius: 0.25em;\n",
       "  box-sizing: border-box;\n",
       "  margin-bottom: 0.5em;\n",
       "  /* unfitted */\n",
       "  background-color: var(--sklearn-color-unfitted-level-0);\n",
       "}\n",
       "\n",
       "#sk-container-id-3 div.sk-estimator.fitted {\n",
       "  /* fitted */\n",
       "  background-color: var(--sklearn-color-fitted-level-0);\n",
       "}\n",
       "\n",
       "/* on hover */\n",
       "#sk-container-id-3 div.sk-estimator:hover {\n",
       "  /* unfitted */\n",
       "  background-color: var(--sklearn-color-unfitted-level-2);\n",
       "}\n",
       "\n",
       "#sk-container-id-3 div.sk-estimator.fitted:hover {\n",
       "  /* fitted */\n",
       "  background-color: var(--sklearn-color-fitted-level-2);\n",
       "}\n",
       "\n",
       "/* Specification for estimator info (e.g. \"i\" and \"?\") */\n",
       "\n",
       "/* Common style for \"i\" and \"?\" */\n",
       "\n",
       ".sk-estimator-doc-link,\n",
       "a:link.sk-estimator-doc-link,\n",
       "a:visited.sk-estimator-doc-link {\n",
       "  float: right;\n",
       "  font-size: smaller;\n",
       "  line-height: 1em;\n",
       "  font-family: monospace;\n",
       "  background-color: var(--sklearn-color-background);\n",
       "  border-radius: 1em;\n",
       "  height: 1em;\n",
       "  width: 1em;\n",
       "  text-decoration: none !important;\n",
       "  margin-left: 1ex;\n",
       "  /* unfitted */\n",
       "  border: var(--sklearn-color-unfitted-level-1) 1pt solid;\n",
       "  color: var(--sklearn-color-unfitted-level-1);\n",
       "}\n",
       "\n",
       ".sk-estimator-doc-link.fitted,\n",
       "a:link.sk-estimator-doc-link.fitted,\n",
       "a:visited.sk-estimator-doc-link.fitted {\n",
       "  /* fitted */\n",
       "  border: var(--sklearn-color-fitted-level-1) 1pt solid;\n",
       "  color: var(--sklearn-color-fitted-level-1);\n",
       "}\n",
       "\n",
       "/* On hover */\n",
       "div.sk-estimator:hover .sk-estimator-doc-link:hover,\n",
       ".sk-estimator-doc-link:hover,\n",
       "div.sk-label-container:hover .sk-estimator-doc-link:hover,\n",
       ".sk-estimator-doc-link:hover {\n",
       "  /* unfitted */\n",
       "  background-color: var(--sklearn-color-unfitted-level-3);\n",
       "  color: var(--sklearn-color-background);\n",
       "  text-decoration: none;\n",
       "}\n",
       "\n",
       "div.sk-estimator.fitted:hover .sk-estimator-doc-link.fitted:hover,\n",
       ".sk-estimator-doc-link.fitted:hover,\n",
       "div.sk-label-container:hover .sk-estimator-doc-link.fitted:hover,\n",
       ".sk-estimator-doc-link.fitted:hover {\n",
       "  /* fitted */\n",
       "  background-color: var(--sklearn-color-fitted-level-3);\n",
       "  color: var(--sklearn-color-background);\n",
       "  text-decoration: none;\n",
       "}\n",
       "\n",
       "/* Span, style for the box shown on hovering the info icon */\n",
       ".sk-estimator-doc-link span {\n",
       "  display: none;\n",
       "  z-index: 9999;\n",
       "  position: relative;\n",
       "  font-weight: normal;\n",
       "  right: .2ex;\n",
       "  padding: .5ex;\n",
       "  margin: .5ex;\n",
       "  width: min-content;\n",
       "  min-width: 20ex;\n",
       "  max-width: 50ex;\n",
       "  color: var(--sklearn-color-text);\n",
       "  box-shadow: 2pt 2pt 4pt #999;\n",
       "  /* unfitted */\n",
       "  background: var(--sklearn-color-unfitted-level-0);\n",
       "  border: .5pt solid var(--sklearn-color-unfitted-level-3);\n",
       "}\n",
       "\n",
       ".sk-estimator-doc-link.fitted span {\n",
       "  /* fitted */\n",
       "  background: var(--sklearn-color-fitted-level-0);\n",
       "  border: var(--sklearn-color-fitted-level-3);\n",
       "}\n",
       "\n",
       ".sk-estimator-doc-link:hover span {\n",
       "  display: block;\n",
       "}\n",
       "\n",
       "/* \"?\"-specific style due to the `<a>` HTML tag */\n",
       "\n",
       "#sk-container-id-3 a.estimator_doc_link {\n",
       "  float: right;\n",
       "  font-size: 1rem;\n",
       "  line-height: 1em;\n",
       "  font-family: monospace;\n",
       "  background-color: var(--sklearn-color-background);\n",
       "  border-radius: 1rem;\n",
       "  height: 1rem;\n",
       "  width: 1rem;\n",
       "  text-decoration: none;\n",
       "  /* unfitted */\n",
       "  color: var(--sklearn-color-unfitted-level-1);\n",
       "  border: var(--sklearn-color-unfitted-level-1) 1pt solid;\n",
       "}\n",
       "\n",
       "#sk-container-id-3 a.estimator_doc_link.fitted {\n",
       "  /* fitted */\n",
       "  border: var(--sklearn-color-fitted-level-1) 1pt solid;\n",
       "  color: var(--sklearn-color-fitted-level-1);\n",
       "}\n",
       "\n",
       "/* On hover */\n",
       "#sk-container-id-3 a.estimator_doc_link:hover {\n",
       "  /* unfitted */\n",
       "  background-color: var(--sklearn-color-unfitted-level-3);\n",
       "  color: var(--sklearn-color-background);\n",
       "  text-decoration: none;\n",
       "}\n",
       "\n",
       "#sk-container-id-3 a.estimator_doc_link.fitted:hover {\n",
       "  /* fitted */\n",
       "  background-color: var(--sklearn-color-fitted-level-3);\n",
       "}\n",
       "</style><div id=\"sk-container-id-3\" class=\"sk-top-container\"><div class=\"sk-text-repr-fallback\"><pre>IsolationForest(contamination=0.14)</pre><b>In a Jupyter environment, please rerun this cell to show the HTML representation or trust the notebook. <br />On GitHub, the HTML representation is unable to render, please try loading this page with nbviewer.org.</b></div><div class=\"sk-container\" hidden><div class=\"sk-item\"><div class=\"sk-estimator fitted sk-toggleable\"><input class=\"sk-toggleable__control sk-hidden--visually\" id=\"sk-estimator-id-3\" type=\"checkbox\" checked><label for=\"sk-estimator-id-3\" class=\"sk-toggleable__label fitted sk-toggleable__label-arrow fitted\">&nbsp;&nbsp;IsolationForest<a class=\"sk-estimator-doc-link fitted\" rel=\"noreferrer\" target=\"_blank\" href=\"https://scikit-learn.org/1.5/modules/generated/sklearn.ensemble.IsolationForest.html\">?<span>Documentation for IsolationForest</span></a><span class=\"sk-estimator-doc-link fitted\">i<span>Fitted</span></span></label><div class=\"sk-toggleable__content fitted\"><pre>IsolationForest(contamination=0.14)</pre></div> </div></div></div></div>"
      ],
      "text/plain": [
       "IsolationForest(contamination=0.14)"
      ]
     },
     "execution_count": 35,
     "metadata": {},
     "output_type": "execute_result"
    }
   ],
   "source": [
    "iso_forest = IsolationForest(contamination=0.14)\n",
    "iso_forest.fit(X_bg_train)"
   ]
  },
  {
   "cell_type": "code",
   "execution_count": 36,
   "id": "804ccc83-dc08-4edf-adfa-938676639251",
   "metadata": {},
   "outputs": [
    {
     "data": {
      "text/plain": [
       "{'bootstrap': False,\n",
       " 'contamination': 0.14,\n",
       " 'max_features': 1.0,\n",
       " 'max_samples': 'auto',\n",
       " 'n_estimators': 100,\n",
       " 'n_jobs': None,\n",
       " 'random_state': None,\n",
       " 'verbose': 0,\n",
       " 'warm_start': False}"
      ]
     },
     "execution_count": 36,
     "metadata": {},
     "output_type": "execute_result"
    }
   ],
   "source": [
    "iso_forest.get_params()"
   ]
  },
  {
   "cell_type": "code",
   "execution_count": 37,
   "id": "e836ad0c-3209-44d9-8d71-819a2d2d9178",
   "metadata": {},
   "outputs": [],
   "source": [
    "y_pred_iso = iso_forest.predict(X_test)"
   ]
  },
  {
   "cell_type": "code",
   "execution_count": 38,
   "id": "e8b7f263-a2a4-4ce3-8f92-b17828d86d7c",
   "metadata": {},
   "outputs": [
    {
     "name": "stdout",
     "output_type": "stream",
     "text": [
      "[ 1  1  1  1  1  1  1  1  1 -1 -1 -1 -1 -1 -1]\n"
     ]
    }
   ],
   "source": [
    "print(y_pred_iso)"
   ]
  },
  {
   "cell_type": "code",
   "execution_count": 39,
   "id": "7491651f-a2e7-45c4-a4ba-8296d2949dd1",
   "metadata": {},
   "outputs": [],
   "source": [
    "test_iso_predictions = (y_pred_iso == -1).astype(int)"
   ]
  },
  {
   "cell_type": "code",
   "execution_count": 40,
   "id": "5ad54011-4575-4e81-9b86-97bf169c92f6",
   "metadata": {},
   "outputs": [],
   "source": [
    "def evaluate_predictions(y_test, y_pred):\n",
    "    print(\"Classification Report:\")\n",
    "    print(classification_report(y_test, y_pred))\n",
    "    print(\"Confusion Matrix:\")\n",
    "    disp_cm = ConfusionMatrixDisplay(confusion_matrix(y_test, y_pred)).plot()"
   ]
  },
  {
   "cell_type": "code",
   "execution_count": 41,
   "id": "0268f10e-9bf8-4f8e-a2dd-fcc37242c38e",
   "metadata": {},
   "outputs": [
    {
     "name": "stdout",
     "output_type": "stream",
     "text": [
      "Classification Report:\n",
      "              precision    recall  f1-score   support\n",
      "\n",
      "           0       1.00      1.00      1.00         9\n",
      "           1       1.00      1.00      1.00         6\n",
      "\n",
      "    accuracy                           1.00        15\n",
      "   macro avg       1.00      1.00      1.00        15\n",
      "weighted avg       1.00      1.00      1.00        15\n",
      "\n",
      "Confusion Matrix:\n"
     ]
    },
    {
     "data": {
      "image/png": "[encoded data removed]",
      "text/plain": [
       "<Figure size 640x480 with 2 Axes>"
      ]
     },
     "metadata": {},
     "output_type": "display_data"
    }
   ],
   "source": [
    "evaluate_predictions(y_test, test_iso_predictions)"
   ]
  },
  {
   "cell_type": "markdown",
   "id": "2418714f-921f-48c1-90ea-b8fb57ec565a",
   "metadata": {},
   "source": [
    "### Using custom threshold with isolation forest anomaly scores"
   ]
  },
  {
   "cell_type": "markdown",
   "id": "4af36c18-3104-45ea-99c0-fb4704ff21ab",
   "metadata": {},
   "source": [
    "The decision function computes the anomaly score for each sample. The decision score is based on the average path length to isolate a sample. This was just for me to understand the how contamination and the decision function worked."
   ]
  },
  {
   "cell_type": "code",
   "execution_count": 42,
   "id": "e4d7f84c-3f83-40bc-9294-3d7fb9d787b4",
   "metadata": {},
   "outputs": [],
   "source": [
    "# Get anomaly scores\n",
    "train_iso_scores = iso_forest.decision_function(X_bg_train)\n",
    "test_iso_scores = iso_forest.decision_function(X_test)"
   ]
  },
  {
   "cell_type": "code",
   "execution_count": 43,
   "id": "ed037f2e-9e33-4210-ad45-e3f005f453dd",
   "metadata": {},
   "outputs": [],
   "source": [
    "threshold = np.percentile(train_iso_scores, 10)  # bottom 10% as anomalies\n",
    "custom_iso_predictions = np.where(test_iso_scores < threshold, 1, 0)"
   ]
  },
  {
   "cell_type": "code",
   "execution_count": 44,
   "id": "cef9aa4d-9c13-4c41-a37f-656c409a3066",
   "metadata": {},
   "outputs": [
    {
     "name": "stdout",
     "output_type": "stream",
     "text": [
      "Classification Report:\n",
      "              precision    recall  f1-score   support\n",
      "\n",
      "           0       1.00      1.00      1.00         9\n",
      "           1       1.00      1.00      1.00         6\n",
      "\n",
      "    accuracy                           1.00        15\n",
      "   macro avg       1.00      1.00      1.00        15\n",
      "weighted avg       1.00      1.00      1.00        15\n",
      "\n",
      "Confusion Matrix:\n"
     ]
    },
    {
     "data": {
      "image/png": "[encoded data removed]",
      "text/plain": [
       "<Figure size 640x480 with 2 Axes>"
      ]
     },
     "metadata": {},
     "output_type": "display_data"
    }
   ],
   "source": [
    "evaluate_predictions(y_test, custom_iso_predictions)"
   ]
  },
  {
   "cell_type": "markdown",
   "id": "b546ddd5-5ccb-4e87-8c7d-12df78c8e3d8",
   "metadata": {},
   "source": [
    "## Local Outlier Factor (LOF)"
   ]
  },
  {
   "cell_type": "code",
   "execution_count": null,
   "id": "b747bcf1-87a7-4f93-bf0c-7f0c50da2781",
   "metadata": {},
   "outputs": [],
   "source": [
    "from sklearn.neighbors import LocalOutlierFactor\n",
    "lof = LocalOutlierFactor(contamination=0.1, novelty=True)\n",
    "lof.fit(X_bg_train)"
   ]
  },
  {
   "cell_type": "code",
   "execution_count": null,
   "id": "e6cff61a-aed4-4704-9515-668990e15398",
   "metadata": {},
   "outputs": [],
   "source": [
    "y_pred_lof = lof.predict(X_test)"
   ]
  },
  {
   "cell_type": "code",
   "execution_count": null,
   "id": "23f027f0-7895-47c5-9d45-5eff7dc08b18",
   "metadata": {},
   "outputs": [],
   "source": [
    "print(y_pred_lof)"
   ]
  },
  {
   "cell_type": "code",
   "execution_count": null,
   "id": "7533a9bf-d984-4e62-84f1-5cce5a7a2d37",
   "metadata": {},
   "outputs": [],
   "source": [
    "test_lof_predictions = (y_pred_lof == -1).astype(int)\n",
    "print(test_lof_predictions)"
   ]
  },
  {
   "cell_type": "code",
   "execution_count": null,
   "id": "4bbc6009-7eee-42d2-bd8f-ec5ee2ccc62c",
   "metadata": {},
   "outputs": [],
   "source": [
    "evaluate_predictions(y_test, test_lof_predictions)"
   ]
  },
  {
   "cell_type": "markdown",
   "id": "3125b18e-6dd4-4eb4-a320-e073dfb037d5",
   "metadata": {},
   "source": [
    "## Cross validation"
   ]
  },
  {
   "cell_type": "code",
   "execution_count": null,
   "id": "6caffb2e-d13c-42b0-9098-d21af98792e1",
   "metadata": {},
   "outputs": [],
   "source": [
    "from sklearn.metrics import roc_auc_score\n",
    "from sklearn.model_selection import StratifiedKFold\n",
    "\n",
    "def custom_cross_validation(X, y, n_splits=5):\n",
    "    # Separate background and drone data\n",
    "    X_bg = X[y == 0]\n",
    "    X_drone = X[y == 1]\n",
    "    y_bg = y[y == 0]\n",
    "    y_drone = y[y == 1]\n",
    "\n",
    "    # Create stratified k-fold for background data\n",
    "    skf = StratifiedKFold(n_splits=n_splits, shuffle=True, random_state=42)\n",
    "\n",
    "    scores = []\n",
    "\n",
    "    for fold, (train_index, val_index) in enumerate(skf.split(X_bg, y_bg), 1):\n",
    "        # Split background data\n",
    "        X_bg_train, X_bg_val = X_bg.iloc[train_index], X_bg.iloc[val_index]\n",
    "        \n",
    "        # Combine validation background data with all drone data for testing\n",
    "        X_val = pd.concat([X_bg_val, X_drone])\n",
    "        y_val = pd.concat([pd.Series([0] * len(X_bg_val)), pd.Series([1] * len(X_drone))])\n",
    "        \n",
    "        # Train Isolation Forest\n",
    "        iso_forest = IsolationForest(contamination=0.1, random_state=42)\n",
    "        iso_forest.fit(X_bg_train)\n",
    "        \n",
    "        # Predict anomaly scores\n",
    "        anomaly_scores = -iso_forest.decision_function(X_val)\n",
    "        \n",
    "        # Calculate AUC-ROC score\n",
    "        auc_score = roc_auc_score(y_val, anomaly_scores)\n",
    "        scores.append(auc_score)\n",
    "        \n",
    "        print(f\"Fold {fold} AUC-ROC: {auc_score:.3f}\")\n",
    "    \n",
    "    print(f\"\\nMean AUC-ROC: {np.mean(scores):.3f} (+/- {np.std(scores) * 2:.3f})\")\n",
    "    \n",
    "    return scores\n",
    "cv_scores = custom_cross_validation(X, y)"
   ]
  },
  {
   "cell_type": "code",
   "execution_count": null,
   "id": "2589f514-c835-4c3a-bce7-a2daef61690b",
   "metadata": {},
   "outputs": [],
   "source": [
    "import sys\n",
    "import numpy as np\n",
    "import pandas as pd\n",
    "import sklearn\n",
    "print(f\"Python version: {sys.version}\")\n",
    "print(f\"NumPy version: {np.__version__}\")\n",
    "print(f\"Pandas version: {pd.__version__}\")\n",
    "print(f\"Scikit-learn version: {sklearn.__version__}\")"
   ]
  },
  {
   "cell_type": "code",
   "execution_count": null,
   "id": "3e17dbd1-8164-4ba7-b66f-6a1f5ce18171",
   "metadata": {},
   "outputs": [],
   "source": []
  }
 ],
 "metadata": {
  "kernelspec": {
   "display_name": "Python 3 (ipykernel)",
   "language": "python",
   "name": "python3"
  },
  "language_info": {
   "codemirror_mode": {
    "name": "ipython",
    "version": 3
   },
   "file_extension": ".py",
   "mimetype": "text/x-python",
   "name": "python",
   "nbconvert_exporter": "python",
   "pygments_lexer": "ipython3",
   "version": "3.12.1"
  }
 },
 "nbformat": 4,
 "nbformat_minor": 5
}
