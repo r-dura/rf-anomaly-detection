{
  "nbformat": 4,
  "nbformat_minor": 0,
  "metadata": {
    "colab": {
      "provenance": []
    },
    "kernelspec": {
      "name": "python3",
      "display_name": "Python 3"
    },
    "language_info": {
      "name": "python"
    }
  },
  "cells": [
    {
      "cell_type": "code",
      "execution_count": null,
      "metadata": {
        "id": "Rk9HomFsfoFG"
      },
      "outputs": [],
      "source": [
        "!pip install gdown\n",
        "import gdown\n",
        "import zipfile\n",
        "import os\n",
        "\n",
        "import numpy as np\n",
        "import pandas as pd\n",
        "from scipy.fft import fft, fftshift"
      ]
    },
    {
      "cell_type": "code",
      "source": [
        "output = 'Hybrid Folder.zip'\n",
        "# Unzip the file\n",
        "with zipfile.ZipFile(output, 'r') as zip_ref:\n",
        "    zip_ref.extractall('/content/Hybrid Folder')\n",
        "\n",
        "# Verify the contents\n",
        "extracted_path = '/content/Hybrid Folder'\n",
        "print(os.listdir(extracted_path))"
      ],
      "metadata": {
        "id": "Xhit50Haf1-C"
      },
      "execution_count": null,
      "outputs": []
    },
    {
      "cell_type": "code",
      "source": [
        "# Set load and save paths\n",
        "load_filename = '/content/Hybrid Folder/Hybrid Folder/'\n",
        "save_filename = load_filename"
      ],
      "metadata": {
        "id": "J_ruzWQMgCA_"
      },
      "execution_count": null,
      "outputs": []
    },
    {
      "cell_type": "code",
      "source": [
        "# Parameters\n",
        "BUI = {\n",
        "    '00000': ['00000'],                        # Label 0: RF background activities\n",
        "    '10000': ['10000', '10001', '10010', '10011'],  # Label 1: Bebop drone RF activities\n",
        "    '10100': ['10100', '10101', '10110', '10111'],  # Label 2: AR drone RF activities\n",
        "    '11000': ['11000']                         # Label 3: Phantom drone RF activities\n",
        "}\n",
        "M = 2048  # Total number of frequency bins\n",
        "L = int(1e5)  # Total number of samples in a segment\n",
        "Q = 10    # Number of returning points for spectral continuity\n",
        "\n",
        "existing_files = os.listdir(load_filename)\n",
        "\n",
        "combined_data = pd.DataFrame()\n",
        "\n",
        "\n",
        "def process_data():\n",
        "    global combined_data\n",
        "    label_mapping = {'00000': 0, '10000': 1, '10001': 1, '10010': 1, '10011': 1,\n",
        "                     '10100': 2, '10101': 2, '10110': 2, '10111': 2, '11000': 3}\n",
        "\n",
        "    for bui_key in BUI:\n",
        "        for bui in BUI[bui_key]:\n",
        "            print(f'Processing BUI: {bui}')\n",
        "            if bui == '00000':\n",
        "                N = 40  # Number of segments for RF background activities\n",
        "            elif bui == '10111':\n",
        "                N = 17\n",
        "            else:\n",
        "                N = 20  # Number of segments for drones RF activities\n",
        "\n",
        "            data = []\n",
        "            cnt = 0\n",
        "            for n in range(N+1):\n",
        "                x_file = f'{bui}L_{n}.csv'\n",
        "                y_file = f'{bui}H_{n}.csv'\n",
        "\n",
        "                # Check if the files exist in the directory\n",
        "                if x_file not in existing_files or y_file not in existing_files:\n",
        "                    print(f\"Skipping missing files: {x_file} or {y_file}\")\n",
        "                    continue\n",
        "\n",
        "                # Read the CSV files\n",
        "                x = np.loadtxt(os.path.join(load_filename, x_file), delimiter=',')\n",
        "                y = np.loadtxt(os.path.join(load_filename, y_file), delimiter=',')\n",
        "\n",
        "                # Re-segment and signal transformation\n",
        "                for i in range(len(x) // L):\n",
        "                    st = i * L\n",
        "                    fi = (i+1) * L\n",
        "\n",
        "                    # FFT and signal processing\n",
        "                    xf = np.abs(fftshift(fft(x[st:fi] - np.mean(x[st:fi]), M)))[M//2:]\n",
        "                    yf = np.abs(fftshift(fft(y[st:fi] - np.mean(y[st:fi]), M)))[M//2:]\n",
        "\n",
        "                    # Normalization and concatenation\n",
        "                    processed_segment = np.concatenate((xf, yf * np.mean(xf[-Q:]) / np.mean(yf[:Q])), axis=0)\n",
        "                    data.append(processed_segment)\n",
        "                    cnt += 1\n",
        "\n",
        "                print(f'Processed {100 * n / N:.2f}% of {bui}')\n",
        "\n",
        "            # Save as .csv\n",
        "            if len(data) > 0:\n",
        "                processed_data = np.square(np.array(data))\n",
        "\n",
        "                # Create labels\n",
        "                labels = np.full((processed_data.shape[0], 1), label_mapping[bui])\n",
        "\n",
        "                # Combine the data with the labels\n",
        "                processed_data_with_labels = np.hstack((processed_data, labels))\n",
        "\n",
        "                # Save to CSV\n",
        "                output_file = os.path.join(save_filename, f'{bui}_processed.csv')\n",
        "                pd.DataFrame(processed_data_with_labels).to_csv(output_file, index=False)\n",
        "                print(f'Saved processed data to {output_file}')\n",
        "\n",
        "                # Add this processed data to the combined DataFrame\n",
        "                combined_data = pd.concat([combined_data, pd.DataFrame(processed_data_with_labels)], axis=0)\n",
        "            else:\n",
        "                print(f\"No data processed for BUI: {bui}\")"
      ],
      "metadata": {
        "id": "E6Aq8ottf55g"
      },
      "execution_count": null,
      "outputs": []
    },
    {
      "cell_type": "code",
      "source": [
        "# Run the processing\n",
        "process_data()"
      ],
      "metadata": {
        "id": "cpOKQWgqgUPN"
      },
      "execution_count": null,
      "outputs": []
    },
    {
      "cell_type": "code",
      "source": [
        "# Save the combined data with labels as a single CSV file\n",
        "combined_output_file = os.path.join(save_filename, 'combined_RF_Data_with_labels.csv')\n",
        "combined_data.to_csv(combined_output_file, index=False)"
      ],
      "metadata": {
        "id": "4UBjMZXtgWK2"
      },
      "execution_count": null,
      "outputs": []
    },
    {
      "cell_type": "code",
      "source": [
        "print(f\"Saved combined processed data with labels to {combined_output_file}\")"
      ],
      "metadata": {
        "id": "dWuvrxuagZwM"
      },
      "execution_count": null,
      "outputs": []
    },
    {
      "cell_type": "code",
      "source": [
        "combined_data.head(-5)"
      ],
      "metadata": {
        "id": "6LrS_Mqsgc67"
      },
      "execution_count": null,
      "outputs": []
    }
  ]
}